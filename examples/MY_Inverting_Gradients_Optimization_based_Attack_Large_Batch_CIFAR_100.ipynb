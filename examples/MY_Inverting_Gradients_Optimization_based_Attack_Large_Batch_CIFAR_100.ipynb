{
  "cells": [
    {
      "cell_type": "markdown",
      "id": "3ebef44a",
      "metadata": {
        "id": "3ebef44a"
      },
      "source": [
        "# Inverting Gradients - How easy is it to break privacy in federated learning?"
      ]
    },
    {
      "cell_type": "markdown",
      "id": "a756fc5f",
      "metadata": {
        "id": "a756fc5f"
      },
      "source": [
        "This notebook shows an example for a **large(r)-batch image gradient inversion** as described in \"Inverting Gradients - How easy is it to break privacy in federated learning?\". The setting is an untrained ResNet32-10 and the federated learning algorithm is **fedSGD**.\n",
        "\n",
        "Paper URL: https://proceedings.neurips.cc/paper/2020/hash/c4ede56bbd98819ae6112b20ac6bf145-Abstract.html"
      ]
    },
    {
      "cell_type": "markdown",
      "id": "5817647e",
      "metadata": {
        "id": "5817647e"
      },
      "source": [
        "This is basically the experiment of Fig.6 in this paper."
      ]
    },
    {
      "cell_type": "markdown",
      "id": "b31823a2",
      "metadata": {
        "id": "b31823a2"
      },
      "source": [
        "#### Abstract\n",
        "The idea of federated learning is to collaboratively train a neural network on a server. Each user receives the current weights of the network and in turns sends parameter updates (gradients) based on local data. This protocol has been designed not only to train neural networks data-efficiently, but also to provide privacy benefits for users, as their input data remains on device and only parameter gradients are shared. But how secure is sharing parameter gradients? Previous attacks have provided a false sense of security, by succeeding only in contrived settings - even for a single image. However, by exploiting a magnitude-invariant loss along with optimization strategies based on adversarial attacks, we show that is is actually possible to faithfully reconstruct images at high resolution from the knowledge of their parameter gradients, and demonstrate that such a break of privacy is possible even for trained deep networks. We analyze the effects of architecture as well as parameters on the difficulty of reconstructing an input image and prove that any input to a fully connected layer can be reconstructed analytically independent of the remaining architecture. Finally we discuss settings encountered in practice and show that even averaging gradients over several iterations or several images does not protect the user's privacy in federated learning applications."
      ]
    },
    {
      "cell_type": "markdown",
      "id": "28c7223c",
      "metadata": {
        "id": "28c7223c"
      },
      "source": [
        "### Startup"
      ]
    },
    {
      "cell_type": "code",
      "execution_count": null,
      "id": "1smfeUqN9xfv",
      "metadata": {
        "colab": {
          "base_uri": "https://localhost:8080/",
          "height": 1000
        },
        "id": "1smfeUqN9xfv",
        "outputId": "0f86e193-8a5c-425b-e25c-743c8273fd25"
      },
      "outputs": [],
      "source": [
        "#!pip install breaching\n",
        "!pip install kornia"
      ]
    },
    {
      "cell_type": "code",
      "execution_count": 6,
      "id": "boqmYOmOVOGn",
      "metadata": {
        "colab": {
          "base_uri": "https://localhost:8080/"
        },
        "id": "boqmYOmOVOGn",
        "outputId": "51b1780c-f716-40cc-8a41-ea9de4447567"
      },
      "outputs": [
        {
          "name": "stdout",
          "output_type": "stream",
          "text": [
            "fatal: destination path 'pytorch_wavelets' already exists and is not an empty directory.\n",
            "Processing ./pytorch_wavelets\n",
            "  Preparing metadata (setup.py) ... \u001b[?25l\u001b[?25hdone\n",
            "Requirement already satisfied: numpy in /usr/local/lib/python3.10/dist-packages (from pytorch-wavelets==1.3.0) (1.23.5)\n",
            "Requirement already satisfied: six in /usr/local/lib/python3.10/dist-packages (from pytorch-wavelets==1.3.0) (1.16.0)\n",
            "Requirement already satisfied: torch in /usr/local/lib/python3.10/dist-packages (from pytorch-wavelets==1.3.0) (2.1.0+cu118)\n",
            "Requirement already satisfied: filelock in /usr/local/lib/python3.10/dist-packages (from torch->pytorch-wavelets==1.3.0) (3.12.4)\n",
            "Requirement already satisfied: typing-extensions in /usr/local/lib/python3.10/dist-packages (from torch->pytorch-wavelets==1.3.0) (4.5.0)\n",
            "Requirement already satisfied: sympy in /usr/local/lib/python3.10/dist-packages (from torch->pytorch-wavelets==1.3.0) (1.12)\n",
            "Requirement already satisfied: networkx in /usr/local/lib/python3.10/dist-packages (from torch->pytorch-wavelets==1.3.0) (3.2)\n",
            "Requirement already satisfied: jinja2 in /usr/local/lib/python3.10/dist-packages (from torch->pytorch-wavelets==1.3.0) (3.1.2)\n",
            "Requirement already satisfied: fsspec in /usr/local/lib/python3.10/dist-packages (from torch->pytorch-wavelets==1.3.0) (2023.6.0)\n",
            "Requirement already satisfied: triton==2.1.0 in /usr/local/lib/python3.10/dist-packages (from torch->pytorch-wavelets==1.3.0) (2.1.0)\n",
            "Requirement already satisfied: MarkupSafe>=2.0 in /usr/local/lib/python3.10/dist-packages (from jinja2->torch->pytorch-wavelets==1.3.0) (2.1.3)\n",
            "Requirement already satisfied: mpmath>=0.19 in /usr/local/lib/python3.10/dist-packages (from sympy->torch->pytorch-wavelets==1.3.0) (1.3.0)\n",
            "Building wheels for collected packages: pytorch-wavelets\n",
            "  Building wheel for pytorch-wavelets (setup.py) ... \u001b[?25l\u001b[?25hdone\n",
            "  Created wheel for pytorch-wavelets: filename=pytorch_wavelets-1.3.0-py3-none-any.whl size=54852 sha256=6b5268da871532ac39208e8b66dfde6da19786dda1220f87d18447db10f9598c\n",
            "  Stored in directory: /tmp/pip-ephem-wheel-cache-siflu6kd/wheels/f6/77/89/ac0462961f441a5dd4d226216613ef64f3eb2c7f2883efcebf\n",
            "Successfully built pytorch-wavelets\n",
            "Installing collected packages: pytorch-wavelets\n",
            "Successfully installed pytorch-wavelets-1.3.0\n"
          ]
        }
      ],
      "source": [
        "!git clone https://github.com/fbcotter/pytorch_wavelets\n",
        "!pip install /content/pytorch_wavelets"
      ]
    },
    {
      "cell_type": "code",
      "execution_count": 1,
      "id": "b850eabf",
      "metadata": {
        "colab": {
          "base_uri": "https://localhost:8080/"
        },
        "id": "b850eabf",
        "outputId": "2e5341ab-a8ff-4742-c09e-7382f1c833f1"
      },
      "outputs": [],
      "source": [
        "try:\n",
        "    import breaching\n",
        "except ModuleNotFoundError:\n",
        "    # You only really need this safety net if you want to run these notebooks directly in the examples directory\n",
        "    # Don't worry about this if you installed the package or moved the notebook to the main directory.\n",
        "    import os; os.chdir(\"..\")\n",
        "    import breaching\n",
        "\n",
        "\n",
        "import torch\n",
        "%load_ext autoreload\n",
        "%autoreload 2\n",
        "\n",
        "# Redirects logs directly into the jupyter notebook\n",
        "import logging, sys\n",
        "logging.basicConfig(level=logging.INFO, handlers=[logging.StreamHandler(sys.stdout)], format='%(message)s')\n",
        "logger = logging.getLogger()"
      ]
    },
    {
      "cell_type": "markdown",
      "id": "88d5e214",
      "metadata": {
        "id": "88d5e214"
      },
      "source": [
        "### Initialize cfg object and system setup:"
      ]
    },
    {
      "cell_type": "markdown",
      "id": "56bd663b",
      "metadata": {
        "id": "56bd663b"
      },
      "source": [
        "This will load the full configuration object. This includes the configuration for the use case and threat model as `cfg.case` and the hyperparameters and implementation of the attack as `cfg.attack`. All parameters can be modified below, or overriden with `overrides=` as if they were cmd-line arguments."
      ]
    },
    {
      "cell_type": "code",
      "execution_count": 2,
      "id": "a7dc3a48",
      "metadata": {
        "colab": {
          "base_uri": "https://localhost:8080/"
        },
        "id": "a7dc3a48",
        "outputId": "fe7fcf7b-d313-4e54-8be8-e2aed1c0cd32"
      },
      "outputs": [
        {
          "name": "stdout",
          "output_type": "stream",
          "text": [
            "Investigating use case large_batch_cifar with server type honest_but_curious.\n"
          ]
        },
        {
          "data": {
            "text/plain": [
              "{'device': device(type='cuda', index=0), 'dtype': torch.float32}"
            ]
          },
          "execution_count": 2,
          "metadata": {},
          "output_type": "execute_result"
        }
      ],
      "source": [
        "cfg = breaching.get_config(overrides=[\"case=6_large_batch_cifar\"])\n",
        "device = torch.device(f'cuda:0') if torch.cuda.is_available() else torch.device('cpu')\n",
        "torch.backends.cudnn.benchmark = cfg.case.impl.benchmark\n",
        "setup = dict(device=device, dtype=getattr(torch, cfg.case.impl.dtype))\n",
        "setup"
      ]
    },
    {
      "cell_type": "code",
      "execution_count": 3,
      "id": "YLYx2CgcL3zA",
      "metadata": {
        "id": "YLYx2CgcL3zA"
      },
      "outputs": [],
      "source": [
        "# in questo modo definisco quanto è grande il batch size dell'utente relativamente alle immagini che uso per calcolare i gradienti trasmessi\n",
        "cfg.case.user.num_data_points = 16"
      ]
    },
    {
      "cell_type": "code",
      "execution_count": 28,
      "id": "ulRoHRsd_Lc4",
      "metadata": {
        "colab": {
          "base_uri": "https://localhost:8080/"
        },
        "id": "ulRoHRsd_Lc4",
        "outputId": "5789b4c1-3ba9-4abe-9249-0c45df7f56b6"
      },
      "outputs": [
        {
          "name": "stdout",
          "output_type": "stream",
          "text": [
            "16\n",
            "dict_keys(['case', 'attack', 'base_dir', 'seed', 'name', 'dryrun', 'num_trials', 'save_reconstruction'])\n",
            "{'optimizer': 'adam', 'signed': 'hard', 'step_size': 0.1, 'boxed': True, 'max_iterations': 24000, 'step_size_decay': 'step-lr', 'langevin_noise': 0.0, 'warmup': 0, 'grad_clip': None, 'callback': 1000}\n"
          ]
        }
      ],
      "source": [
        "print(cfg.case.user.num_data_points)\n",
        "print(cfg.keys())\n",
        "print(cfg.attack.optim)\n",
        "cfg.attack.optim.max_iterations = 500\n",
        "cfg.attack.optim.step_size = .8"
      ]
    },
    {
      "cell_type": "markdown",
      "id": "203c5fb1",
      "metadata": {
        "id": "203c5fb1"
      },
      "source": [
        "### Modify config options here"
      ]
    },
    {
      "cell_type": "markdown",
      "id": "6e0764ef",
      "metadata": {
        "id": "6e0764ef"
      },
      "source": [
        "You can use `.attribute` access to modify any of these configurations for the attack, or the case:"
      ]
    },
    {
      "cell_type": "code",
      "execution_count": 4,
      "id": "ac118ea0",
      "metadata": {
        "id": "ac118ea0"
      },
      "outputs": [],
      "source": [
        "cfg.case.data.partition=\"balanced\" # 100 unique CIFAR-100 images\n",
        "cfg.case.user.user_idx = 0\n",
        "\n",
        "cfg.case.user.provide_labels = False\n",
        "cfg.attack.label_strategy = \"yin\" # also works here, as labels are unique\n",
        "\n",
        "# Total variation regularization needs to be smaller on CIFAR-10:\n",
        "cfg.attack.regularization.total_variation.scale = 5e-4"
      ]
    },
    {
      "cell_type": "markdown",
      "id": "76f64389",
      "metadata": {
        "id": "76f64389"
      },
      "source": [
        "### Instantiate all parties"
      ]
    },
    {
      "cell_type": "markdown",
      "id": "ce37e668",
      "metadata": {
        "id": "ce37e668"
      },
      "source": [
        "The following lines generate \"server, \"user\" and \"attacker\" objects and print an overview of their configurations."
      ]
    },
    {
      "cell_type": "code",
      "execution_count": 5,
      "id": "d3abd955",
      "metadata": {
        "colab": {
          "base_uri": "https://localhost:8080/"
        },
        "id": "d3abd955",
        "outputId": "b5922863-8918-432f-e8b9-0cc2bce03bdc"
      },
      "outputs": [
        {
          "name": "stdout",
          "output_type": "stream",
          "text": [
            "Downloading https://www.cs.toronto.edu/~kriz/cifar-100-python.tar.gz to /user/gparrella/data/cifar-100-python.tar.gz\n"
          ]
        },
        {
          "name": "stderr",
          "output_type": "stream",
          "text": [
            "100%|██████████| 169001437/169001437 [03:06<00:00, 905641.72it/s] \n"
          ]
        },
        {
          "name": "stdout",
          "output_type": "stream",
          "text": [
            "Extracting /user/gparrella/data/cifar-100-python.tar.gz to /user/gparrella/data\n",
            "Model architecture ResNet32-10 loaded with 46,429,060 parameters and 24,673 buffers.\n",
            "Overall this is a data ratio of     945:1 for target shape [16, 3, 32, 32] given that num_queries=1.\n",
            "User (of type UserSingleStep) with settings:\n",
            "    Number of data points: 16\n",
            "\n",
            "    Threat model:\n",
            "    User provides labels: False\n",
            "    User provides buffers: False\n",
            "    User provides number of data points: True\n",
            "\n",
            "    Data:\n",
            "    Dataset: CIFAR100\n",
            "    user: 0\n",
            "    \n",
            "        \n",
            "Server (of type HonestServer) with settings:\n",
            "    Threat model: Honest-but-curious\n",
            "    Number of planned queries: 1\n",
            "    Has external/public data: False\n",
            "\n",
            "    Model:\n",
            "        model specification: ResNet32-10\n",
            "        model state: default\n",
            "        public buffers: True\n",
            "\n",
            "    Secrets: {}\n",
            "    \n",
            "Attacker (of type OptimizationBasedAttacker) with settings:\n",
            "    Hyperparameter Template: invertinggradients\n",
            "\n",
            "    Objective: Cosine Similarity with scale=1.0 and task reg=0.0\n",
            "    Regularizers: Total Variation, scale=0.0005. p=1 q=1. \n",
            "    Augmentations: \n",
            "\n",
            "    Optimization Setup:\n",
            "        optimizer: adam\n",
            "        signed: hard\n",
            "        step_size: 0.1\n",
            "        boxed: True\n",
            "        max_iterations: 24000\n",
            "        step_size_decay: step-lr\n",
            "        langevin_noise: 0.0\n",
            "        warmup: 0\n",
            "        grad_clip: None\n",
            "        callback: 1000\n",
            "        \n"
          ]
        }
      ],
      "source": [
        "user, server, model, loss_fn = breaching.cases.construct_case(cfg.case, setup)\n",
        "attacker = breaching.attacks.prepare_attack(server.model, server.loss, cfg.attack, setup)\n",
        "breaching.utils.overview(server, user, attacker)"
      ]
    },
    {
      "cell_type": "markdown",
      "id": "548c0ad6",
      "metadata": {
        "id": "548c0ad6"
      },
      "source": [
        "### Simulate an attacked FL protocol"
      ]
    },
    {
      "cell_type": "markdown",
      "id": "2058bcc2",
      "metadata": {
        "id": "2058bcc2"
      },
      "source": [
        "This exchange is a simulation of a single query in a federated learning protocol. The server sends out a `server_payload` and the user computes an update based on their private local data. This user update is `shared_data` and contains, for example, the parameter gradient of the model in the simplest case. `true_user_data` is also returned by `.compute_local_updates`, but of course not forwarded to the server or attacker and only used for (our) analysis."
      ]
    },
    {
      "cell_type": "code",
      "execution_count": 6,
      "id": "b0dbd868",
      "metadata": {
        "id": "b0dbd868"
      },
      "outputs": [
        {
          "name": "stdout",
          "output_type": "stream",
          "text": [
            "Computing user update on user 0 in model mode: eval.\n"
          ]
        }
      ],
      "source": [
        "server_payload = server.distribute_payload()\n",
        "shared_data, true_user_data = user.compute_local_updates(server_payload)"
      ]
    },
    {
      "cell_type": "code",
      "execution_count": 7,
      "id": "IhH8OLMaLdJd",
      "metadata": {
        "colab": {
          "base_uri": "https://localhost:8080/"
        },
        "id": "IhH8OLMaLdJd",
        "outputId": "66c01cf4-adbc-43a0-f3c7-40cc3f85a423"
      },
      "outputs": [
        {
          "name": "stdout",
          "output_type": "stream",
          "text": [
            "16\n"
          ]
        }
      ],
      "source": [
        "print(len(true_user_data['labels']))"
      ]
    },
    {
      "cell_type": "code",
      "execution_count": 8,
      "id": "49c68628",
      "metadata": {
        "colab": {
          "base_uri": "https://localhost:8080/",
          "height": 499
        },
        "id": "49c68628",
        "outputId": "cf8b3f7c-bfd0-4a1f-d562-75217b02610c"
      },
      "outputs": [
        {
          "data": {
            "image/png": "[encoded data removed]",
            "text/plain": [
              "<Figure size 600x600 with 16 Axes>"
            ]
          },
          "metadata": {},
          "output_type": "display_data"
        }
      ],
      "source": [
        "user.plot(true_user_data)"
      ]
    },
    {
      "cell_type": "markdown",
      "id": "17255c5a",
      "metadata": {
        "id": "17255c5a"
      },
      "source": [
        "### Reconstruct user data:"
      ]
    },
    {
      "cell_type": "markdown",
      "id": "798f4f44",
      "metadata": {
        "id": "798f4f44"
      },
      "source": [
        "Now we launch the attack, reconstructing user data based on only the `server_payload` and the `shared_data`.\n",
        "\n",
        "You can interrupt the computation early to see a partial solution."
      ]
    },
    {
      "cell_type": "code",
      "execution_count": 9,
      "id": "c9a32fd7",
      "metadata": {
        "id": "c9a32fd7"
      },
      "outputs": [
        {
          "name": "stdout",
          "output_type": "stream",
          "text": [
            "Recovered labels [0, 1, 2, 3, 4, 5, 6, 7, 8, 9, 10, 11, 12, 13, 14, 15] through strategy yin.\n",
            "| It: 1 | Rec. loss: 0.0157 |  Task loss: 30.3762 | T: 0.26s\n",
            "| It: 1001 | Rec. loss: 0.0086 |  Task loss: 32.5934 | T: 133.68s\n",
            "| It: 2001 | Rec. loss: 0.0099 |  Task loss: 33.1433 | T: 119.43s\n",
            "| It: 3001 | Rec. loss: 0.0114 |  Task loss: 33.4241 | T: 115.84s\n",
            "| It: 4001 | Rec. loss: 0.0098 |  Task loss: 33.4815 | T: 115.21s\n",
            "| It: 5001 | Rec. loss: 0.0090 |  Task loss: 33.3108 | T: 114.98s\n",
            "| It: 6001 | Rec. loss: 0.0111 |  Task loss: 32.8418 | T: 115.16s\n",
            "| It: 7001 | Rec. loss: 0.0087 |  Task loss: 33.0442 | T: 116.09s\n",
            "| It: 8001 | Rec. loss: 0.0072 |  Task loss: 32.6920 | T: 115.54s\n",
            "| It: 9001 | Rec. loss: 0.0091 |  Task loss: 33.1250 | T: 115.26s\n"
          ]
        }
      ],
      "source": [
        "reconstructed_user_data, stats = attacker.reconstruct([server_payload], [shared_data], {}, dryrun=cfg.dryrun)"
      ]
    },
    {
      "cell_type": "markdown",
      "id": "d746e854",
      "metadata": {
        "id": "d746e854"
      },
      "source": [
        "Next we'll evaluate metrics, comparing the `reconstructed_user_data` to the `true_user_data`."
      ]
    },
    {
      "cell_type": "code",
      "execution_count": null,
      "id": "31f2685a",
      "metadata": {
        "colab": {
          "base_uri": "https://localhost:8080/"
        },
        "id": "31f2685a",
        "outputId": "7146f426-2b8c-44a8-e2fc-fd171d5a1700"
      },
      "outputs": [],
      "source": [
        "metrics = breaching.analysis.report(reconstructed_user_data, true_user_data, [server_payload],\n",
        "                                    server.model, order_batch=True, compute_full_iip=False,\n",
        "                                    cfg_case=cfg.case, setup=setup)"
      ]
    },
    {
      "cell_type": "code",
      "execution_count": null,
      "id": "I1u9AwK-U0mh",
      "metadata": {
        "colab": {
          "base_uri": "https://localhost:8080/"
        },
        "id": "I1u9AwK-U0mh",
        "outputId": "e78efda6-d354-451a-b271-6df2d2fbc64b"
      },
      "outputs": [],
      "source": [
        "print(metrics)"
      ]
    },
    {
      "cell_type": "markdown",
      "id": "9caa5d02",
      "metadata": {
        "id": "9caa5d02"
      },
      "source": [
        "And finally, we also plot the reconstructed data:"
      ]
    },
    {
      "cell_type": "code",
      "execution_count": null,
      "id": "631f4a84",
      "metadata": {
        "colab": {
          "base_uri": "https://localhost:8080/",
          "height": 406
        },
        "id": "631f4a84",
        "outputId": "964c220d-6ae3-47e5-e72a-26b874331a2b"
      },
      "outputs": [],
      "source": [
        "user.plot(reconstructed_user_data)"
      ]
    },
    {
      "cell_type": "markdown",
      "id": "50889063",
      "metadata": {
        "id": "50889063"
      },
      "source": [
        "### Notes:\n",
        "* Label recovery works reasonably well in this example. Especially as labels are unique in the default settings.\n",
        "* The interesting part here is not that most images are unrecognizable (they are), but that a few select images do get reconstructed very well.\n",
        "* Also note that this model is quite large for an experiment on CIFAR-100"
      ]
    }
  ],
  "metadata": {
    "accelerator": "GPU",
    "colab": {
      "gpuType": "T4",
      "provenance": []
    },
    "kernelspec": {
      "display_name": "Python 3",
      "name": "python3"
    },
    "language_info": {
      "codemirror_mode": {
        "name": "ipython",
        "version": 3
      },
      "file_extension": ".py",
      "mimetype": "text/x-python",
      "name": "python",
      "nbconvert_exporter": "python",
      "pygments_lexer": "ipython3",
      "version": "3.8.10"
    }
  },
  "nbformat": 4,
  "nbformat_minor": 5
}
